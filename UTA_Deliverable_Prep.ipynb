{
 "cells": [
  {
   "cell_type": "code",
   "execution_count": 1,
   "metadata": {},
   "outputs": [],
   "source": [
    "#Script by Brian Shotwell, G2 2022\n",
    "#Tool to add five fields: \"FES_ADDR_FL\", \"ASSET_ID_PGE_FL\", \"UTA_TYPE_PGE_FL\", \"Delivered_Date\", and \"Delivered_To\" to the UTA points Layer and field calculate data\n",
    "#Tool also does initial XY points from CSV and reprojects points to UTM Zone 10N. Also formats final output FC to AGOL schema.\n",
    "\n",
    "import os\n",
    "import arcpy\n",
    "import datetime\n",
    "\n",
    "arcpy.env.addOutputsToMap = True\n",
    "arcpy.env.overwriteOutput = True\n",
    "\n",
    "# Update uta_points variable with the latest CSV of the UTAs\n",
    "# Update delivered_date to the deliverable day\n",
    "# Update date to the 15th of the month day that is the deliverable day, ex: \"UTA_20220715\"\n",
    "\n",
    "uta_point_csv = 'Sewer Defect Access Tracking Log_20230415.csv'\n",
    "date_delivered = '2023-04-15 00:00:00'\n",
    "date = '20230415'"
   ]
  },
  {
   "cell_type": "markdown",
   "metadata": {},
   "source": [
    "<h4> Use XY Table to Point tool to create point feature class from CSV, then reproject the points to UTM Zone 10N </h4>"
   ]
  },
  {
   "cell_type": "code",
   "execution_count": 2,
   "metadata": {},
   "outputs": [
    {
     "data": {
      "text/html": [
       "<div class='gpresult'><h2>Messages</h2><div id='messages' data-messages='[\"Start Time: Friday, April 21, 2023 10:50:29 AM\",\"Succeeded at Friday, April 21, 2023 10:50:29 AM (Elapsed Time: 0.03 seconds)\"]' data-show='true'><div id = 'default' /></div></div>"
      ],
      "text/plain": [
       "<Result 'true'>"
      ]
     },
     "execution_count": 2,
     "metadata": {},
     "output_type": "execute_result"
    }
   ],
   "source": [
    "# Update the output name feature class with UTA_{date}\n",
    "arcpy.management.XYTableToPoint(uta_point_csv, \"UTA_FC\", \"Longitude\", \"Latitude\", None, 'GEOGCS[\"GCS_WGS_1984\",DATUM[\"D_WGS_1984\",SPHEROID[\"WGS_1984\",6378137.0,298.257223563]],PRIMEM[\"Greenwich\",0.0],UNIT[\"Degree\",0.0174532925199433]];-400 -400 1000000000;-100000 10000;-100000 10000;8.98315284119521E-09;0.001;0.001;IsHighPrecision')\n",
    "arcpy.management.Project(\"UTA_FC\", \"UTA_\"+ date +\"_10N\", 'PROJCS[\"NAD_1983_UTM_Zone_10N\",GEOGCS[\"GCS_North_American_1983\",DATUM[\"D_North_American_1983\",SPHEROID[\"GRS_1980\",6378137.0,298.257222101]],PRIMEM[\"Greenwich\",0.0],UNIT[\"Degree\",0.0174532925199433]],PROJECTION[\"Transverse_Mercator\"],PARAMETER[\"False_Easting\",500000.0],PARAMETER[\"False_Northing\",0.0],PARAMETER[\"Central_Meridian\",-123.0],PARAMETER[\"Scale_Factor\",0.9996],PARAMETER[\"Latitude_Of_Origin\",0.0],UNIT[\"Meter\",1.0]]', \"WGS_1984_(ITRF00)_To_NAD_1983\", 'GEOGCS[\"GCS_WGS_1984\",DATUM[\"D_WGS_1984\",SPHEROID[\"WGS_1984\",6378137.0,298.257223563]],PRIMEM[\"Greenwich\",0.0],UNIT[\"Degree\",0.0174532925199433]]', \"NO_PRESERVE_SHAPE\", None, \"NO_VERTICAL\")\n",
    "arcpy.management.Delete(\"UTA_FC\")"
   ]
  },
  {
   "cell_type": "markdown",
   "metadata": {},
   "source": [
    "<h4> Select all the records NOT in this deliverable month and remove them from the feature class </h4>"
   ]
  },
  {
   "cell_type": "code",
   "execution_count": 3,
   "metadata": {},
   "outputs": [
    {
     "data": {
      "text/html": [
       "<div class='gpresult'><h2>Messages</h2><div id='messages' data-messages='[\"Start Time: Friday, April 21, 2023 10:50:38 AM\",\"Succeeded at Friday, April 21, 2023 10:50:38 AM (Elapsed Time: 0.03 seconds)\"]' data-show='true'><div id = 'default' /></div></div>"
      ],
      "text/plain": [
       "<Result 'UTA_20230415_10N'>"
      ]
     },
     "execution_count": 3,
     "metadata": {},
     "output_type": "execute_result"
    }
   ],
   "source": [
    "uta_point_fc = \"UTA_\"+ date +\"_10N\"\n",
    "arcpy.env.overwriteOutput = True\n",
    "\n",
    "# Select all records not in this deliverable month and remove them from the feature class\n",
    "arcpy.SelectLayerByAttribute_management(uta_point_fc, \"NEW_SELECTION\", \"Date_Informed_PGE <> timestamp '\" + str(date_delivered) + \"'\", None)\n",
    "arcpy.DeleteFeatures_management(uta_point_fc)\n",
    "arcpy.management.SelectLayerByAttribute(uta_point_fc, \"CLEAR_SELECTION\")"
   ]
  },
  {
   "cell_type": "markdown",
   "metadata": {},
   "source": [
    "<h4> !!! Before doing the next step, double check the amount of records equals the total UTA number being delivered this month !!!</h4>"
   ]
  },
  {
   "cell_type": "code",
   "execution_count": 4,
   "metadata": {},
   "outputs": [
    {
     "data": {
      "text/html": [
       "<div class='gpresult'><h2>Messages</h2><div id='messages' data-messages='[\"Start Time: Friday, April 21, 2023 10:51:05 AM\",\"Succeeded at Friday, April 21, 2023 10:51:05 AM (Elapsed Time: 0.13 seconds)\"]' data-show='true'><div id = 'default' /></div></div>"
      ],
      "text/plain": [
       "<Result 'UTA_20230415_10N'>"
      ]
     },
     "execution_count": 4,
     "metadata": {},
     "output_type": "execute_result"
    }
   ],
   "source": [
    "#AddField(in_table, field_name, field_type, {field_precision}, {field_scale}, {field_length}, {field_alias}, {field_is_nullable}, {field_is_required}, {field_domain})\n",
    "\n",
    "arcpy.AddField_management(uta_point_fc, \"FES_ADDR_FL\", \"TEXT\", \"\", \"\", field_length = \"75\", field_is_nullable = \"NULLABLE\")\n",
    "arcpy.AddField_management(uta_point_fc, \"ASSET_ID_PGE_FL\", \"TEXT\", \"\", \"\", field_length = \"50\", field_is_nullable = \"NULLABLE\")\n",
    "arcpy.AddField_management(uta_point_fc, \"UTA_TYPE_PGE_FL\", \"TEXT\", \"\", \"\", field_length = \"50\", field_is_nullable = \"NULLABLE\")\n",
    "arcpy.AddField_management(uta_point_fc, \"Delivered_Date\", \"DATE\", field_is_nullable = \"NULLABLE\")\n",
    "arcpy.AddField_management(uta_point_fc, \"Delivered_To\", \"TEXT\", \"\", \"\", field_length = \"50\", field_is_nullable = \"NULLABLE\")\n",
    "\n",
    "#CalculateField data\n",
    "#CalculateField(in_table, field, expression, {expression_type}, {code_block}, {field_type})\n",
    "\n",
    "#str_addr = !Street_Number! + \" \" + !Street_Name! + \" \" + !Street_Suffix!\n",
    "arcpy.CalculateField_management(uta_point_fc, \"FES_ADDR_FL\", (\"!Street_Number!\" + \"' '\" + \"!Street_Name!\" + \"' '\" + \"!Street_Suffix!\").upper(), \"PYTHON_9.3\")\n",
    "arcpy.CalculateField_management(uta_point_fc, \"ASSET_ID_PGE_FL\", \"!Asset_Number!\", \"PYTHON_9.3\")\n",
    "arcpy.CalculateField_management(uta_point_fc, \"UTA_TYPE_PGE_FL\", \"!UTA_Type!\", \"PYTHON_9.3\")\n",
    "arcpy.CalculateField_management(uta_point_fc, \"Delivered_Date\", \"!Date_Informed_PGE!\", \"PYTHON_9.3\")\n",
    "\n",
    "#Select records that don't have a street suffix and calculate them over to FES_ADDR_FL\n",
    "arcpy.management.SelectLayerByAttribute(uta_point_fc, \"NEW_SELECTION\", \"FES_ADDR_FL IS NULL\", None)\n",
    "arcpy.CalculateField_management(uta_point_fc, \"FES_ADDR_FL\", (\"!Street_Number!\" + \"' '\" + \"!Street_Name!\"), \"PYTHON_9.3\")\n",
    "arcpy.management.SelectLayerByAttribute(uta_point_fc, \"CLEAR_SELECTION\")\n",
    "\n",
    "#Upper case all the Addresses\n",
    "arcpy.management.SelectLayerByAttribute(uta_point_fc, \"NEW_SELECTION\", \"FES_ADDR_FL IS NOT NULL\", None)\n",
    "arcpy.management.CalculateField(uta_point_fc, \"FES_ADDR_FL\", \"!FES_ADDR_FL!.upper()\", \"PYTHON3\", '', \"TEXT\", \"NO_ENFORCE_DOMAINS\")\n",
    "\n",
    "#Calculate Delivered_To fields to be either PG&E or PG&E/SFPUC\n",
    "arcpy.management.SelectLayerByAttribute(uta_point_fc, \"NEW_SELECTION\", \"Date_Informed_City IS NOT NULL\", None)\n",
    "arcpy.management.CalculateField(uta_point_fc, \"Delivered_To\", \"'PG&E/SFPUC'\", \"PYTHON3\", '', \"TEXT\", \"NO_ENFORCE_DOMAINS\")\n",
    "arcpy.management.SelectLayerByAttribute(uta_point_fc, \"NEW_SELECTION\", \"Delivered_To IS NULL\", None)\n",
    "arcpy.management.CalculateField(uta_point_fc, \"Delivered_To\", \"'PG&E'\", \"PYTHON3\", '', \"TEXT\", \"NO_ENFORCE_DOMAINS\")\n",
    "arcpy.management.SelectLayerByAttribute(uta_point_fc, \"CLEAR_SELECTION\")\n",
    "\n",
    "#Title case all the UTA_Type_PGE_FL values\n",
    "arcpy.management.CalculateField(uta_point_fc, \"UTA_TYPE_PGE_FL\", \"!UTA_TYPE_PGE_FL!.title()\", \"PYTHON3\", '', \"TEXT\", \"NO_ENFORCE_DOMAINS\")\n",
    "\n",
    "#Delete un-wanted fields\n",
    "arcpy.DeleteField_management(uta_point_fc,['UTA_ID','FES_ADDR_FL','ASSET_ID_PGE_FL','UTA_TYPE_PGE_FL','Delivered_Date','Delivered_To'], \"KEEP_FIELDS\")\n",
    "\n",
    "#Find and replace on all 'P Trap' values with 'P-Trap'\n",
    "arcpy.management.CalculateField(uta_point_fc, \"UTA_TYPE_PGE_FL\", \"!UTA_TYPE_PGE_FL!.replace('P Trap', 'P-Trap')\", \"PYTHON3\", '', \"TEXT\", \"NO_ENFORCE_DOMAINS\")\n",
    "arcpy.management.CalculateField(uta_point_fc, \"UTA_TYPE_PGE_FL\", \"!UTA_TYPE_PGE_FL!.replace('Ptrap', 'P-Trap')\", \"PYTHON3\", '', \"TEXT\", \"NO_ENFORCE_DOMAINS\")"
   ]
  },
  {
   "cell_type": "code",
   "execution_count": null,
   "metadata": {},
   "outputs": [],
   "source": []
  }
 ],
 "metadata": {
  "kernelspec": {
   "display_name": "ArcGISPro",
   "language": "Python",
   "name": "python3"
  },
  "language_info": {
   "file_extension": ".py",
   "name": "python",
   "version": "3"
  }
 },
 "nbformat": 4,
 "nbformat_minor": 2
}
